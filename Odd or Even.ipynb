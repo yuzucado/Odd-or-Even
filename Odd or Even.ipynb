{
 "cells": [
  {
   "cell_type": "code",
   "execution_count": 5,
   "metadata": {},
   "outputs": [
    {
     "name": "stdout",
     "output_type": "stream",
     "text": [
      "Please enter a number here: 2\n",
      "It's an even number.\n"
     ]
    }
   ],
   "source": [
    "number = int(input(\"Please enter a number here: \"))\n",
    "divide = number % 2\n",
    "if divide > 0:\n",
    "    print(\"It's an odd number.\")\n",
    "else:\n",
    "    print(\"It's an even number.\")"
   ]
  },
  {
   "cell_type": "code",
   "execution_count": 10,
   "metadata": {
    "scrolled": true
   },
   "outputs": [
    {
     "name": "stdout",
     "output_type": "stream",
     "text": [
      "Please enter a number here: 4\n",
      "It can be divided by 4!\n"
     ]
    }
   ],
   "source": [
    "number = int(input(\"Please enter a number here: \"))\n",
    "divide = number % 4\n",
    "if divide == 0:\n",
    "    print(\"It can be divided by 4!\")\n",
    "elif divide == 2:\n",
    "    print(\"It's an even number.\")\n",
    "else:\n",
    "    print(\"It's an odd number.\")"
   ]
  },
  {
   "cell_type": "code",
   "execution_count": 17,
   "metadata": {},
   "outputs": [
    {
     "name": "stdout",
     "output_type": "stream",
     "text": [
      "Please enter a number to check: 7\n",
      "Please enter a number to divide by: 3\n",
      "CANNOT be be divided evenly.\n"
     ]
    }
   ],
   "source": [
    "num = int(input(\"Please enter a number to check: \"))\n",
    "check = int(input(\"Please enter a number to divide by: \"))\n",
    "divide = num % check\n",
    "if divide == 0:\n",
    "    print(\"Can be divided evenly.\")\n",
    "else:\n",
    "    print(\"CANNOT be be divided evenly.\")"
   ]
  }
 ],
 "metadata": {
  "kernelspec": {
   "display_name": "Python 3",
   "language": "python",
   "name": "python3"
  },
  "language_info": {
   "codemirror_mode": {
    "name": "ipython",
    "version": 3
   },
   "file_extension": ".py",
   "mimetype": "text/x-python",
   "name": "python",
   "nbconvert_exporter": "python",
   "pygments_lexer": "ipython3",
   "version": "3.7.6"
  }
 },
 "nbformat": 4,
 "nbformat_minor": 4
}
